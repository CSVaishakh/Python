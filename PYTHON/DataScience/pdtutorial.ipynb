{
 "cells": [
  {
   "cell_type": "code",
   "execution_count": 10,
   "metadata": {},
   "outputs": [
    {
     "name": "stderr",
     "output_type": "stream",
     "text": [
      "<>:2: SyntaxWarning: invalid escape sequence '\\D'\n",
      "<>:2: SyntaxWarning: invalid escape sequence '\\D'\n",
      "C:\\Users\\91751\\AppData\\Local\\Temp\\ipykernel_11768\\1353305585.py:2: SyntaxWarning: invalid escape sequence '\\D'\n",
      "  df=pd.read_csv(\"C:\\DEVELOPMENT\\PYTHON\\Datasets\\housing.csv\")\n"
     ]
    },
    {
     "data": {
      "text/plain": [
       "20640"
      ]
     },
     "execution_count": 10,
     "metadata": {},
     "output_type": "execute_result"
    }
   ],
   "source": [
    "\n",
    "import pandas as pd\n",
    "df=pd.read_csv(\"C:\\DEVELOPMENT\\PYTHON\\Datasets\\housing.csv\")\n",
    "df.head()\n",
    "df.tail()\n",
    "len(df.index)\n"
   ]
  }
 ],
 "metadata": {
  "kernelspec": {
   "display_name": "Python 3",
   "language": "python",
   "name": "python3"
  },
  "language_info": {
   "codemirror_mode": {
    "name": "ipython",
    "version": 3
   },
   "file_extension": ".py",
   "mimetype": "text/x-python",
   "name": "python",
   "nbconvert_exporter": "python",
   "pygments_lexer": "ipython3",
   "version": "3.12.4"
  }
 },
 "nbformat": 4,
 "nbformat_minor": 2
}
